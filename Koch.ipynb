{
 "cells": [
  {
   "cell_type": "markdown",
   "metadata": {},
   "source": [
    "# Fractals, part 1: Koch's curve/snowflake"
   ]
  },
  {
   "cell_type": "markdown",
   "metadata": {},
   "source": [
    "## Introduction"
   ]
  },
  {
   "cell_type": "markdown",
   "metadata": {},
   "source": [
    "In this series of notebooks, we explore some ideas associated to Fractals, as well as their implementation in Python. In this first part, we will start by constructing Koch's snowflake. Throughout these notebooks, we will frequently use some scientific libraries of python, particularly, numpy and matplotlib."
   ]
  },
  {
   "cell_type": "code",
   "execution_count": 3,
   "metadata": {},
   "outputs": [],
   "source": [
    "import numpy as np\n",
    "import matplotlib.pyplot as plt"
   ]
  },
  {
   "cell_type": "markdown",
   "metadata": {},
   "source": [
    "First, we have to understand how to represent the fractal mathematically. Let us take a look at some approximations of the fractal:"
   ]
  },
  {
   "cell_type": "markdown",
   "metadata": {},
   "source": [
    "![title](files/koch.png)"
   ]
  },
  {
   "cell_type": "markdown",
   "metadata": {},
   "source": [
    "The main idea here is that at each step of the construction, each segment of the curve is divided into three segments of equal length, and over the middle segment, a equilateral triangle is constructed, deleting the base of it. We can show that the length of the limit object (the fractal) is in fact infinite: at the first step, we start with $3$ segments of length $1$. After going to the next step, we end up with $4$ segments for each of the original ones, each of them of length a third of the length of the previous step segments. Mathematically, we can express the length of each step of the construction by"
   ]
  },
  {
   "cell_type": "markdown",
   "metadata": {},
   "source": [
    "$$ 3\\cdot 1 \\ , \\  4\\cdot\\dfrac{1}{3} \\ , \\ 4^2\\cdot \\left(\\dfrac{1}{3} \\right)^2 \\ , \\ \\dots , \\ 4^n\\cdot\\left(\\dfrac{1}{3} \\right)^n \\ , \\ \\dots$$"
   ]
  },
  {
   "cell_type": "markdown",
   "metadata": {},
   "source": [
    "It is not hart to convince yourself that the above quantity tends to infinity as $n$ grows. A quick loop can help us see this more clearly:"
   ]
  },
  {
   "cell_type": "code",
   "execution_count": 4,
   "metadata": {},
   "outputs": [
    {
     "name": "stdout",
     "output_type": "stream",
     "text": [
      "2.605300741132187e+125\n"
     ]
    }
   ],
   "source": [
    "L = 3\n",
    "for i in range(0,1000):\n",
    "    L = (4/3)*L\n",
    "print(L)"
   ]
  },
  {
   "cell_type": "markdown",
   "metadata": {},
   "source": [
    "## Construction of the fractal"
   ]
  },
  {
   "cell_type": "markdown",
   "metadata": {},
   "source": [
    "### 1. Vectors and matrices"
   ]
  },
  {
   "cell_type": "markdown",
   "metadata": {},
   "source": [
    "One of the crucial steps towards the successful construction of the fractal is to encode the fractal in an appropriate way. In this notebook, we will encode each step of the fractal by keeping track of the vectors defining each endpoint of each segment. This will allow us to perform the iterative process in a very geometric way. Once we have all the endpoints stored, it will be easy to draw the lines joining them, and consequently, draw each step of the construction of the fractal."
   ]
  },
  {
   "cell_type": "markdown",
   "metadata": {},
   "source": [
    "To easily perform linear algebra operations, we will use numpy arrays as the type of variables for the vectors. This allows us to write the operations in a vectorized way, and not componentwise, saving space, time and resources. We assume that the reader has basic knowledge of linear algebra."
   ]
  },
  {
   "cell_type": "markdown",
   "metadata": {},
   "source": [
    "One of the most important ingredients of this construction, is the rotation matrix, defined as"
   ]
  },
  {
   "cell_type": "code",
   "execution_count": 7,
   "metadata": {},
   "outputs": [],
   "source": [
    "R = np.array([[0,-1],[1,0]])"
   ]
  },
  {
   "cell_type": "markdown",
   "metadata": {},
   "source": [
    "$$ R = \\begin{bmatrix}\n",
    "0 & -1\\\\ \n",
    "1 & 0\n",
    "\\end{bmatrix} $$"
   ]
  },
  {
   "cell_type": "markdown",
   "metadata": {},
   "source": [
    "This matrix has the property that when we apply it to a vector, it rotates it by $90^\\circ$ counterclockwise. This matrix is an isometry, that is, it preserves norms."
   ]
  },
  {
   "cell_type": "code",
   "execution_count": 10,
   "metadata": {},
   "outputs": [
    {
     "name": "stdout",
     "output_type": "stream",
     "text": [
      "[-1  1]\n"
     ]
    }
   ],
   "source": [
    "print(R.dot(np.array([1,1])))"
   ]
  },
  {
   "cell_type": "markdown",
   "metadata": {},
   "source": [
    "Now, if $x,y$ are vectors in the plane, the segment joining $x$ to $y$ can be represented by $y-x$ (it is important to note the order since segments have a direction). Thus, a perpendicular vector to $y-x$ can be represented by $R(y-x)$. It is important to remark again that the rotation is counterclockwise. If we want a normal vector of norm $1$, we can then normalize $n$ and obtain $n = R(y-x)/\\|y-x \\|$. The last remark before defining the main function of the program, is to notice that the middle point between $x$ and $y$ is the vector $(x+y)/2$, while the points laying in the segment joining $x$ and $y$ dividing it in three segments of equal length are given by $(2/3)\\cdot x + (1/3)\\cdot y$ and $(1/3)\\cdot x + (2/3)\\cdot y$."
   ]
  },
  {
   "cell_type": "markdown",
   "metadata": {},
   "source": [
    "### 2. Geometric function"
   ]
  },
  {
   "cell_type": "markdown",
   "metadata": {},
   "source": [
    "We proceed to implement one of the main functions of the program. The input of the function will be a pair of vectors in the plane, and it will return **a list** consisting of five vectors, representing the endpoints of the segment now divided into four new segments."
   ]
  },
  {
   "cell_type": "code",
   "execution_count": 11,
   "metadata": {},
   "outputs": [],
   "source": [
    "def third(a,b):\n",
    "    x = np.array(a)\n",
    "    y = np.array(b)\n",
    "    return [x,((2/3)*x+(1/3)*y),(x+y)/2 + (np.sqrt(3)/6)*R.dot(y-x),((1/3)*x+(2/3)*y),y]"
   ]
  },
  {
   "cell_type": "markdown",
   "metadata": {},
   "source": [
    "To understand the formula giving the third vector, we can proceed step by step. The term $(x+y)/2$ represents the middle point of the segment joining $x$ and $y$. Now, we want to go in the perpendicular direction to this segment, and the distance to this is equal to the height of the equilateral triangle with side $\\|y-x \\|/3$. This height is given by $\\left(\\frac{\\sqrt{3}}{6}\\right)\\cdot\\|y-x \\|$. Multiplying this by the unitary perpendicular vector to $y-x$ and adding it to the middle point, we obtain the disired result."
   ]
  },
  {
   "cell_type": "markdown",
   "metadata": {},
   "source": [
    "Once we have a list of vectors, we can put them all in two lists of x and y coordinates and then plot them. We define a function doing this for us. Note that the input of this function is a list of vectors and returns two lists."
   ]
  },
  {
   "cell_type": "code",
   "execution_count": 17,
   "metadata": {},
   "outputs": [],
   "source": [
    "def unfold_list(L):\n",
    "    x_coord = []\n",
    "    y_coord = []\n",
    "    for i in range(len(L)):\n",
    "        x_coord.append(L[i][0])\n",
    "        y_coord.append(L[i][1])\n",
    "    return [x_coord,y_coord]"
   ]
  },
  {
   "cell_type": "markdown",
   "metadata": {},
   "source": [
    "### 3. Iteration function"
   ]
  },
  {
   "cell_type": "markdown",
   "metadata": {},
   "source": [
    "Now we are ready to build the iterative function. The idea is that we will start with the segment joining the points $(0,0)$ and $(0,3)$, apply our function that breaks up segments and build the equilateral triangle in the middle section."
   ]
  },
  {
   "cell_type": "code",
   "execution_count": 18,
   "metadata": {},
   "outputs": [],
   "source": [
    "def koch(n):\n",
    "    L = [[0,0],[3,0]]\n",
    "    for i in range(0,n):\n",
    "        K = []\n",
    "        l = len(L)\n",
    "        for s in range(0,l-1):\n",
    "            t = third(L[s],L[s+1])\n",
    "            del t[-1] #This avoids that the endpoint of each segment is listed twice \n",
    "#(also as the begining point of the next segment)\n",
    "            K = K + t\n",
    "        K.append([3,0])\n",
    "        L = K\n",
    "    plt.xlim(0, 3)\n",
    "    plt.ylim(0, 3)\n",
    "    plt.axis('equal')\n",
    "    plt.plot(unfold_list(L)[0],unfold_list(L)[1])"
   ]
  },
  {
   "cell_type": "raw",
   "metadata": {},
   "source": [
    "Now we are ready to build the iterative function. The idea is that we will start with the segment joining the points $(0,0)$ and $(0,3)$, apply our function"
   ]
  },
  {
   "cell_type": "markdown",
   "metadata": {},
   "source": [
    "We can try now our program and plot different approximations of the fractal by varying the parameter $n$."
   ]
  },
  {
   "cell_type": "code",
   "execution_count": 24,
   "metadata": {},
   "outputs": [
    {
     "data": {
      "image/png": "[encoded data removed]",
      "text/plain": [
       "<matplotlib.figure.Figure at 0x11352ec50>"
      ]
     },
     "metadata": {},
     "output_type": "display_data"
    }
   ],
   "source": [
    "koch(4)"
   ]
  },
  {
   "cell_type": "markdown",
   "metadata": {},
   "source": [
    "It is worth noting that this construction is iterative and not recursive. A recursive solution can also be given. We leave it as an exercise to the interested reader."
   ]
  }
 ],
 "metadata": {
  "kernelspec": {
   "display_name": "Python 3",
   "language": "python",
   "name": "python3"
  },
  "language_info": {
   "codemirror_mode": {
    "name": "ipython",
    "version": 3
   },
   "file_extension": ".py",
   "mimetype": "text/x-python",
   "name": "python",
   "nbconvert_exporter": "python",
   "pygments_lexer": "ipython3",
   "version": "3.6.4"
  }
 },
 "nbformat": 4,
 "nbformat_minor": 2
}
